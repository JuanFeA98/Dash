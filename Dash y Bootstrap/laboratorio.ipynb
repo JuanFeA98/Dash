{
 "cells": [
  {
   "cell_type": "markdown",
   "metadata": {},
   "source": [
    "## Librerias"
   ]
  },
  {
   "cell_type": "code",
   "execution_count": 1,
   "metadata": {},
   "outputs": [],
   "source": [
    "import pandas as pd\n",
    "import numpy as np"
   ]
  },
  {
   "cell_type": "code",
   "execution_count": 2,
   "metadata": {},
   "outputs": [],
   "source": [
    "pd.options.display.max_columns = False"
   ]
  },
  {
   "cell_type": "code",
   "execution_count": 3,
   "metadata": {},
   "outputs": [],
   "source": [
    "import plotly.express as px\n",
    "import plotly.graph_objects as go"
   ]
  },
  {
   "cell_type": "markdown",
   "metadata": {},
   "source": [
    "## Datos"
   ]
  },
  {
   "cell_type": "code",
   "execution_count": 5,
   "metadata": {},
   "outputs": [],
   "source": [
    "battles = pd.read_csv('Data/battles.csv')\n",
    "deaths = pd.read_csv('Data/character-deaths.csv') "
   ]
  },
  {
   "cell_type": "markdown",
   "metadata": {},
   "source": [
    "### **Batallas**"
   ]
  },
  {
   "cell_type": "code",
   "execution_count": 8,
   "metadata": {},
   "outputs": [
    {
     "data": {
      "text/html": [
       "<div>\n",
       "<style scoped>\n",
       "    .dataframe tbody tr th:only-of-type {\n",
       "        vertical-align: middle;\n",
       "    }\n",
       "\n",
       "    .dataframe tbody tr th {\n",
       "        vertical-align: top;\n",
       "    }\n",
       "\n",
       "    .dataframe thead th {\n",
       "        text-align: right;\n",
       "    }\n",
       "</style>\n",
       "<table border=\"1\" class=\"dataframe\">\n",
       "  <thead>\n",
       "    <tr style=\"text-align: right;\">\n",
       "      <th></th>\n",
       "      <th>name</th>\n",
       "      <th>year</th>\n",
       "      <th>battle_number</th>\n",
       "      <th>attacker_king</th>\n",
       "      <th>defender_king</th>\n",
       "      <th>attacker_1</th>\n",
       "      <th>attacker_2</th>\n",
       "      <th>attacker_3</th>\n",
       "      <th>attacker_4</th>\n",
       "      <th>defender_1</th>\n",
       "      <th>defender_2</th>\n",
       "      <th>defender_3</th>\n",
       "      <th>defender_4</th>\n",
       "      <th>attacker_outcome</th>\n",
       "      <th>battle_type</th>\n",
       "      <th>major_death</th>\n",
       "      <th>major_capture</th>\n",
       "      <th>attacker_size</th>\n",
       "      <th>defender_size</th>\n",
       "      <th>attacker_commander</th>\n",
       "      <th>defender_commander</th>\n",
       "      <th>summer</th>\n",
       "      <th>location</th>\n",
       "      <th>region</th>\n",
       "      <th>note</th>\n",
       "    </tr>\n",
       "  </thead>\n",
       "  <tbody>\n",
       "    <tr>\n",
       "      <th>15</th>\n",
       "      <td>Siege of Storm's End</td>\n",
       "      <td>299</td>\n",
       "      <td>16</td>\n",
       "      <td>Stannis Baratheon</td>\n",
       "      <td>Renly Baratheon</td>\n",
       "      <td>Baratheon</td>\n",
       "      <td>NaN</td>\n",
       "      <td>NaN</td>\n",
       "      <td>NaN</td>\n",
       "      <td>Baratheon</td>\n",
       "      <td>NaN</td>\n",
       "      <td>NaN</td>\n",
       "      <td>NaN</td>\n",
       "      <td>win</td>\n",
       "      <td>siege</td>\n",
       "      <td>1.0</td>\n",
       "      <td>0.0</td>\n",
       "      <td>5000.0</td>\n",
       "      <td>20000.0</td>\n",
       "      <td>Stannis Baratheon, Davos Seaworth</td>\n",
       "      <td>Renly Baratheon, Cortnay Penrose, Loras Tyrell...</td>\n",
       "      <td>1.0</td>\n",
       "      <td>Storm's End</td>\n",
       "      <td>The Stormlands</td>\n",
       "      <td>NaN</td>\n",
       "    </tr>\n",
       "  </tbody>\n",
       "</table>\n",
       "</div>"
      ],
      "text/plain": [
       "                    name  year  battle_number  ...     location          region note\n",
       "15  Siege of Storm's End   299             16  ...  Storm's End  The Stormlands  NaN\n",
       "\n",
       "[1 rows x 25 columns]"
      ]
     },
     "execution_count": 8,
     "metadata": {},
     "output_type": "execute_result"
    }
   ],
   "source": [
    "battles.sample()"
   ]
  },
  {
   "cell_type": "code",
   "execution_count": 40,
   "metadata": {},
   "outputs": [],
   "source": [
    "battles['battle_type'].fillna('Unknown', inplace=True)\n",
    "battles['attacker_king'].fillna('Unknown', inplace=True)"
   ]
  },
  {
   "cell_type": "code",
   "execution_count": 29,
   "metadata": {},
   "outputs": [],
   "source": [
    "battles['attacker_size'].fillna(battles['attacker_size'].mean(), inplace=True)\n",
    "battles['defender_size'].fillna(battles['defender_size'].mean(), inplace=True)"
   ]
  },
  {
   "cell_type": "code",
   "execution_count": 55,
   "metadata": {},
   "outputs": [],
   "source": [
    "battles['total_warriors'] = battles['attacker_size'] + battles['defender_size']"
   ]
  },
  {
   "cell_type": "code",
   "execution_count": 59,
   "metadata": {},
   "outputs": [
    {
     "data": {
      "application/vnd.plotly.v1+json": {
       "config": {
        "plotlyServerURL": "https://plot.ly"
       },
       "data": [
        {
         "customdata": [
          [
           "Battle of the Golden Tooth",
           "pitched battle"
          ],
          [
           "Battle of Oxcross",
           "ambush"
          ],
          [
           "Battle of the Crag",
           "ambush"
          ]
         ],
         "hovertemplate": "region=The Westerlands<br>attacker_size=%{x}<br>defender_size=%{y}<br>total_warriors=%{marker.size}<br>name=%{customdata[0]}<br>battle_type=%{customdata[1]}<extra></extra>",
         "legendgroup": "The Westerlands",
         "marker": {
          "color": "#636efa",
          "size": [
           19000,
           16000,
           12428.157894736843
          ],
          "sizemode": "area",
          "sizeref": 95,
          "symbol": "circle"
         },
         "mode": "markers",
         "name": "The Westerlands",
         "orientation": "v",
         "showlegend": true,
         "type": "scatter",
         "x": [
          15000,
          6000,
          6000
         ],
         "xaxis": "x",
         "y": [
          4000,
          10000,
          6428.1578947368425
         ],
         "yaxis": "y"
        },
        {
         "customdata": [
          [
           "Battle at the Mummer's Ford",
           "ambush"
          ],
          [
           "Battle of Riverrun",
           "pitched battle"
          ],
          [
           "Battle of the Green Fork",
           "pitched battle"
          ],
          [
           "Battle of the Whispering Wood",
           "ambush"
          ],
          [
           "Battle of the Camps",
           "ambush"
          ],
          [
           "Sack of Darry",
           "pitched battle"
          ],
          [
           "Battle of the Fords",
           "pitched battle"
          ],
          [
           "Sack of Harrenhal",
           "ambush"
          ],
          [
           "Siege of Darry",
           "siege"
          ],
          [
           "Battle of the Burning Septry",
           "pitched battle"
          ],
          [
           "Battle of the Ruby Ford",
           "pitched battle"
          ],
          [
           "Retaking of Harrenhal",
           "pitched battle"
          ],
          [
           "The Red Wedding",
           "ambush"
          ],
          [
           "Siege of Seagard",
           "siege"
          ],
          [
           "Sack of Saltpans",
           "razing"
          ],
          [
           "Siege of Riverrun",
           "siege"
          ],
          [
           "Siege of Raventree",
           "siege"
          ]
         ],
         "hovertemplate": "region=The Riverlands<br>attacker_size=%{x}<br>defender_size=%{y}<br>total_warriors=%{marker.size}<br>name=%{customdata[0]}<br>battle_type=%{customdata[1]}<extra></extra>",
         "legendgroup": "The Riverlands",
         "marker": {
          "color": "#EF553B",
          "size": [
           10062.541666666666,
           25000,
           38000,
           7875,
           18625,
           16370.699561403508,
           30000,
           200,
           16370.699561403508,
           16370.699561403508,
           15942.541666666666,
           16370.699561403508,
           7000,
           16370.699561403508,
           16370.699561403508,
           9428.157894736843,
           7928.1578947368425
          ],
          "sizemode": "area",
          "sizeref": 95,
          "symbol": "circle"
         },
         "mode": "markers",
         "name": "The Riverlands",
         "orientation": "v",
         "showlegend": true,
         "type": "scatter",
         "x": [
          9942.541666666666,
          15000,
          18000,
          1875,
          6000,
          9942.541666666666,
          20000,
          100,
          9942.541666666666,
          9942.541666666666,
          9942.541666666666,
          9942.541666666666,
          3500,
          9942.541666666666,
          9942.541666666666,
          3000,
          1500
         ],
         "xaxis": "x",
         "y": [
          120,
          10000,
          20000,
          6000,
          12625,
          6428.1578947368425,
          10000,
          100,
          6428.1578947368425,
          6428.1578947368425,
          6000,
          6428.1578947368425,
          3500,
          6428.1578947368425,
          6428.1578947368425,
          6428.1578947368425,
          6428.1578947368425
         ],
         "yaxis": "y"
        },
        {
         "customdata": [
          [
           "Battle of Moat Cailin",
           "pitched battle"
          ],
          [
           "Battle of Deepwood Motte",
           "siege"
          ],
          [
           "Battle of the Stony Shore",
           "ambush"
          ],
          [
           "Battle of Torrhen's Square",
           "pitched battle"
          ],
          [
           "Battle of Winterfell",
           "ambush"
          ],
          [
           "Sack of Torrhen's Square",
           "siege"
          ],
          [
           "Sack of Winterfell",
           "ambush"
          ],
          [
           "Fall of Moat Cailin",
           "siege"
          ],
          [
           "Retaking of Deepwood Motte",
           "pitched battle"
          ],
          [
           "Siege of Winterfell",
           "Unknown"
          ]
         ],
         "hovertemplate": "region=The North<br>attacker_size=%{x}<br>defender_size=%{y}<br>total_warriors=%{marker.size}<br>name=%{customdata[0]}<br>battle_type=%{customdata[1]}<extra></extra>",
         "legendgroup": "The North",
         "marker": {
          "color": "#00cc96",
          "size": [
           16370.699561403508,
           7428.1578947368425,
           6692.1578947368425,
           1144,
           6448.1578947368425,
           16370.699561403508,
           2618,
           16370.699561403508,
           4700,
           13000
          ],
          "sizemode": "area",
          "sizeref": 95,
          "symbol": "circle"
         },
         "mode": "markers",
         "name": "The North",
         "orientation": "v",
         "showlegend": true,
         "type": "scatter",
         "x": [
          9942.541666666666,
          1000,
          264,
          244,
          20,
          9942.541666666666,
          618,
          9942.541666666666,
          4500,
          5000
         ],
         "xaxis": "x",
         "y": [
          6428.1578947368425,
          6428.1578947368425,
          6428.1578947368425,
          900,
          6428.1578947368425,
          6428.1578947368425,
          2000,
          6428.1578947368425,
          200,
          8000
         ],
         "yaxis": "y"
        },
        {
         "customdata": [
          [
           "Siege of Storm's End",
           "siege"
          ],
          [
           "Second Seige of Storm's End",
           "siege"
          ],
          [
           "Siege of Dragonstone",
           "siege"
          ]
         ],
         "hovertemplate": "region=The Stormlands<br>attacker_size=%{x}<br>defender_size=%{y}<br>total_warriors=%{marker.size}<br>name=%{customdata[0]}<br>battle_type=%{customdata[1]}<extra></extra>",
         "legendgroup": "The Stormlands",
         "marker": {
          "color": "#ab63fa",
          "size": [
           25000,
           10142.541666666666,
           8428.157894736843
          ],
          "sizemode": "area",
          "sizeref": 95,
          "symbol": "circle"
         },
         "mode": "markers",
         "name": "The Stormlands",
         "orientation": "v",
         "showlegend": true,
         "type": "scatter",
         "x": [
          5000,
          9942.541666666666,
          2000
         ],
         "xaxis": "x",
         "y": [
          20000,
          200,
          6428.1578947368425
         ],
         "yaxis": "y"
        },
        {
         "customdata": [
          [
           "Battle of the Blackwater",
           "pitched battle"
          ],
          [
           "Battle of Duskendale",
           "pitched battle"
          ]
         ],
         "hovertemplate": "region=The Crownlands<br>attacker_size=%{x}<br>defender_size=%{y}<br>total_warriors=%{marker.size}<br>name=%{customdata[0]}<br>battle_type=%{customdata[1]}<extra></extra>",
         "legendgroup": "The Crownlands",
         "marker": {
          "color": "#FFA15A",
          "size": [
           28250,
           9428.157894736843
          ],
          "sizemode": "area",
          "sizeref": 95,
          "symbol": "circle"
         },
         "mode": "markers",
         "name": "The Crownlands",
         "orientation": "v",
         "showlegend": true,
         "type": "scatter",
         "x": [
          21000,
          3000
         ],
         "xaxis": "x",
         "y": [
          7250,
          6428.1578947368425
         ],
         "yaxis": "y"
        },
        {
         "customdata": [
          [
           "Battle of the Shield Islands",
           "pitched battle"
          ],
          [
           "Invasion of Ryamsport, Vinetown, and Starfish Harbor",
           "razing"
          ]
         ],
         "hovertemplate": "region=The Reach<br>attacker_size=%{x}<br>defender_size=%{y}<br>total_warriors=%{marker.size}<br>name=%{customdata[0]}<br>battle_type=%{customdata[1]}<extra></extra>",
         "legendgroup": "The Reach",
         "marker": {
          "color": "#19d3f3",
          "size": [
           16370.699561403508,
           16370.699561403508
          ],
          "sizemode": "area",
          "sizeref": 95,
          "symbol": "circle"
         },
         "mode": "markers",
         "name": "The Reach",
         "orientation": "v",
         "showlegend": true,
         "type": "scatter",
         "x": [
          9942.541666666666,
          9942.541666666666
         ],
         "xaxis": "x",
         "y": [
          6428.1578947368425,
          6428.1578947368425
         ],
         "yaxis": "y"
        }
       ],
       "layout": {
        "legend": {
         "itemsizing": "constant",
         "title": {
          "text": "region"
         },
         "tracegroupgap": 0
        },
        "margin": {
         "t": 60
        },
        "template": {
         "data": {
          "bar": [
           {
            "error_x": {
             "color": "#2a3f5f"
            },
            "error_y": {
             "color": "#2a3f5f"
            },
            "marker": {
             "line": {
              "color": "#E5ECF6",
              "width": 0.5
             },
             "pattern": {
              "fillmode": "overlay",
              "size": 10,
              "solidity": 0.2
             }
            },
            "type": "bar"
           }
          ],
          "barpolar": [
           {
            "marker": {
             "line": {
              "color": "#E5ECF6",
              "width": 0.5
             },
             "pattern": {
              "fillmode": "overlay",
              "size": 10,
              "solidity": 0.2
             }
            },
            "type": "barpolar"
           }
          ],
          "carpet": [
           {
            "aaxis": {
             "endlinecolor": "#2a3f5f",
             "gridcolor": "white",
             "linecolor": "white",
             "minorgridcolor": "white",
             "startlinecolor": "#2a3f5f"
            },
            "baxis": {
             "endlinecolor": "#2a3f5f",
             "gridcolor": "white",
             "linecolor": "white",
             "minorgridcolor": "white",
             "startlinecolor": "#2a3f5f"
            },
            "type": "carpet"
           }
          ],
          "choropleth": [
           {
            "colorbar": {
             "outlinewidth": 0,
             "ticks": ""
            },
            "type": "choropleth"
           }
          ],
          "contour": [
           {
            "colorbar": {
             "outlinewidth": 0,
             "ticks": ""
            },
            "colorscale": [
             [
              0,
              "#0d0887"
             ],
             [
              0.1111111111111111,
              "#46039f"
             ],
             [
              0.2222222222222222,
              "#7201a8"
             ],
             [
              0.3333333333333333,
              "#9c179e"
             ],
             [
              0.4444444444444444,
              "#bd3786"
             ],
             [
              0.5555555555555556,
              "#d8576b"
             ],
             [
              0.6666666666666666,
              "#ed7953"
             ],
             [
              0.7777777777777778,
              "#fb9f3a"
             ],
             [
              0.8888888888888888,
              "#fdca26"
             ],
             [
              1,
              "#f0f921"
             ]
            ],
            "type": "contour"
           }
          ],
          "contourcarpet": [
           {
            "colorbar": {
             "outlinewidth": 0,
             "ticks": ""
            },
            "type": "contourcarpet"
           }
          ],
          "heatmap": [
           {
            "colorbar": {
             "outlinewidth": 0,
             "ticks": ""
            },
            "colorscale": [
             [
              0,
              "#0d0887"
             ],
             [
              0.1111111111111111,
              "#46039f"
             ],
             [
              0.2222222222222222,
              "#7201a8"
             ],
             [
              0.3333333333333333,
              "#9c179e"
             ],
             [
              0.4444444444444444,
              "#bd3786"
             ],
             [
              0.5555555555555556,
              "#d8576b"
             ],
             [
              0.6666666666666666,
              "#ed7953"
             ],
             [
              0.7777777777777778,
              "#fb9f3a"
             ],
             [
              0.8888888888888888,
              "#fdca26"
             ],
             [
              1,
              "#f0f921"
             ]
            ],
            "type": "heatmap"
           }
          ],
          "heatmapgl": [
           {
            "colorbar": {
             "outlinewidth": 0,
             "ticks": ""
            },
            "colorscale": [
             [
              0,
              "#0d0887"
             ],
             [
              0.1111111111111111,
              "#46039f"
             ],
             [
              0.2222222222222222,
              "#7201a8"
             ],
             [
              0.3333333333333333,
              "#9c179e"
             ],
             [
              0.4444444444444444,
              "#bd3786"
             ],
             [
              0.5555555555555556,
              "#d8576b"
             ],
             [
              0.6666666666666666,
              "#ed7953"
             ],
             [
              0.7777777777777778,
              "#fb9f3a"
             ],
             [
              0.8888888888888888,
              "#fdca26"
             ],
             [
              1,
              "#f0f921"
             ]
            ],
            "type": "heatmapgl"
           }
          ],
          "histogram": [
           {
            "marker": {
             "pattern": {
              "fillmode": "overlay",
              "size": 10,
              "solidity": 0.2
             }
            },
            "type": "histogram"
           }
          ],
          "histogram2d": [
           {
            "colorbar": {
             "outlinewidth": 0,
             "ticks": ""
            },
            "colorscale": [
             [
              0,
              "#0d0887"
             ],
             [
              0.1111111111111111,
              "#46039f"
             ],
             [
              0.2222222222222222,
              "#7201a8"
             ],
             [
              0.3333333333333333,
              "#9c179e"
             ],
             [
              0.4444444444444444,
              "#bd3786"
             ],
             [
              0.5555555555555556,
              "#d8576b"
             ],
             [
              0.6666666666666666,
              "#ed7953"
             ],
             [
              0.7777777777777778,
              "#fb9f3a"
             ],
             [
              0.8888888888888888,
              "#fdca26"
             ],
             [
              1,
              "#f0f921"
             ]
            ],
            "type": "histogram2d"
           }
          ],
          "histogram2dcontour": [
           {
            "colorbar": {
             "outlinewidth": 0,
             "ticks": ""
            },
            "colorscale": [
             [
              0,
              "#0d0887"
             ],
             [
              0.1111111111111111,
              "#46039f"
             ],
             [
              0.2222222222222222,
              "#7201a8"
             ],
             [
              0.3333333333333333,
              "#9c179e"
             ],
             [
              0.4444444444444444,
              "#bd3786"
             ],
             [
              0.5555555555555556,
              "#d8576b"
             ],
             [
              0.6666666666666666,
              "#ed7953"
             ],
             [
              0.7777777777777778,
              "#fb9f3a"
             ],
             [
              0.8888888888888888,
              "#fdca26"
             ],
             [
              1,
              "#f0f921"
             ]
            ],
            "type": "histogram2dcontour"
           }
          ],
          "mesh3d": [
           {
            "colorbar": {
             "outlinewidth": 0,
             "ticks": ""
            },
            "type": "mesh3d"
           }
          ],
          "parcoords": [
           {
            "line": {
             "colorbar": {
              "outlinewidth": 0,
              "ticks": ""
             }
            },
            "type": "parcoords"
           }
          ],
          "pie": [
           {
            "automargin": true,
            "type": "pie"
           }
          ],
          "scatter": [
           {
            "marker": {
             "colorbar": {
              "outlinewidth": 0,
              "ticks": ""
             }
            },
            "type": "scatter"
           }
          ],
          "scatter3d": [
           {
            "line": {
             "colorbar": {
              "outlinewidth": 0,
              "ticks": ""
             }
            },
            "marker": {
             "colorbar": {
              "outlinewidth": 0,
              "ticks": ""
             }
            },
            "type": "scatter3d"
           }
          ],
          "scattercarpet": [
           {
            "marker": {
             "colorbar": {
              "outlinewidth": 0,
              "ticks": ""
             }
            },
            "type": "scattercarpet"
           }
          ],
          "scattergeo": [
           {
            "marker": {
             "colorbar": {
              "outlinewidth": 0,
              "ticks": ""
             }
            },
            "type": "scattergeo"
           }
          ],
          "scattergl": [
           {
            "marker": {
             "colorbar": {
              "outlinewidth": 0,
              "ticks": ""
             }
            },
            "type": "scattergl"
           }
          ],
          "scattermapbox": [
           {
            "marker": {
             "colorbar": {
              "outlinewidth": 0,
              "ticks": ""
             }
            },
            "type": "scattermapbox"
           }
          ],
          "scatterpolar": [
           {
            "marker": {
             "colorbar": {
              "outlinewidth": 0,
              "ticks": ""
             }
            },
            "type": "scatterpolar"
           }
          ],
          "scatterpolargl": [
           {
            "marker": {
             "colorbar": {
              "outlinewidth": 0,
              "ticks": ""
             }
            },
            "type": "scatterpolargl"
           }
          ],
          "scatterternary": [
           {
            "marker": {
             "colorbar": {
              "outlinewidth": 0,
              "ticks": ""
             }
            },
            "type": "scatterternary"
           }
          ],
          "surface": [
           {
            "colorbar": {
             "outlinewidth": 0,
             "ticks": ""
            },
            "colorscale": [
             [
              0,
              "#0d0887"
             ],
             [
              0.1111111111111111,
              "#46039f"
             ],
             [
              0.2222222222222222,
              "#7201a8"
             ],
             [
              0.3333333333333333,
              "#9c179e"
             ],
             [
              0.4444444444444444,
              "#bd3786"
             ],
             [
              0.5555555555555556,
              "#d8576b"
             ],
             [
              0.6666666666666666,
              "#ed7953"
             ],
             [
              0.7777777777777778,
              "#fb9f3a"
             ],
             [
              0.8888888888888888,
              "#fdca26"
             ],
             [
              1,
              "#f0f921"
             ]
            ],
            "type": "surface"
           }
          ],
          "table": [
           {
            "cells": {
             "fill": {
              "color": "#EBF0F8"
             },
             "line": {
              "color": "white"
             }
            },
            "header": {
             "fill": {
              "color": "#C8D4E3"
             },
             "line": {
              "color": "white"
             }
            },
            "type": "table"
           }
          ]
         },
         "layout": {
          "annotationdefaults": {
           "arrowcolor": "#2a3f5f",
           "arrowhead": 0,
           "arrowwidth": 1
          },
          "autotypenumbers": "strict",
          "coloraxis": {
           "colorbar": {
            "outlinewidth": 0,
            "ticks": ""
           }
          },
          "colorscale": {
           "diverging": [
            [
             0,
             "#8e0152"
            ],
            [
             0.1,
             "#c51b7d"
            ],
            [
             0.2,
             "#de77ae"
            ],
            [
             0.3,
             "#f1b6da"
            ],
            [
             0.4,
             "#fde0ef"
            ],
            [
             0.5,
             "#f7f7f7"
            ],
            [
             0.6,
             "#e6f5d0"
            ],
            [
             0.7,
             "#b8e186"
            ],
            [
             0.8,
             "#7fbc41"
            ],
            [
             0.9,
             "#4d9221"
            ],
            [
             1,
             "#276419"
            ]
           ],
           "sequential": [
            [
             0,
             "#0d0887"
            ],
            [
             0.1111111111111111,
             "#46039f"
            ],
            [
             0.2222222222222222,
             "#7201a8"
            ],
            [
             0.3333333333333333,
             "#9c179e"
            ],
            [
             0.4444444444444444,
             "#bd3786"
            ],
            [
             0.5555555555555556,
             "#d8576b"
            ],
            [
             0.6666666666666666,
             "#ed7953"
            ],
            [
             0.7777777777777778,
             "#fb9f3a"
            ],
            [
             0.8888888888888888,
             "#fdca26"
            ],
            [
             1,
             "#f0f921"
            ]
           ],
           "sequentialminus": [
            [
             0,
             "#0d0887"
            ],
            [
             0.1111111111111111,
             "#46039f"
            ],
            [
             0.2222222222222222,
             "#7201a8"
            ],
            [
             0.3333333333333333,
             "#9c179e"
            ],
            [
             0.4444444444444444,
             "#bd3786"
            ],
            [
             0.5555555555555556,
             "#d8576b"
            ],
            [
             0.6666666666666666,
             "#ed7953"
            ],
            [
             0.7777777777777778,
             "#fb9f3a"
            ],
            [
             0.8888888888888888,
             "#fdca26"
            ],
            [
             1,
             "#f0f921"
            ]
           ]
          },
          "colorway": [
           "#636efa",
           "#EF553B",
           "#00cc96",
           "#ab63fa",
           "#FFA15A",
           "#19d3f3",
           "#FF6692",
           "#B6E880",
           "#FF97FF",
           "#FECB52"
          ],
          "font": {
           "color": "#2a3f5f"
          },
          "geo": {
           "bgcolor": "white",
           "lakecolor": "white",
           "landcolor": "#E5ECF6",
           "showlakes": true,
           "showland": true,
           "subunitcolor": "white"
          },
          "hoverlabel": {
           "align": "left"
          },
          "hovermode": "closest",
          "mapbox": {
           "style": "light"
          },
          "paper_bgcolor": "white",
          "plot_bgcolor": "#E5ECF6",
          "polar": {
           "angularaxis": {
            "gridcolor": "white",
            "linecolor": "white",
            "ticks": ""
           },
           "bgcolor": "#E5ECF6",
           "radialaxis": {
            "gridcolor": "white",
            "linecolor": "white",
            "ticks": ""
           }
          },
          "scene": {
           "xaxis": {
            "backgroundcolor": "#E5ECF6",
            "gridcolor": "white",
            "gridwidth": 2,
            "linecolor": "white",
            "showbackground": true,
            "ticks": "",
            "zerolinecolor": "white"
           },
           "yaxis": {
            "backgroundcolor": "#E5ECF6",
            "gridcolor": "white",
            "gridwidth": 2,
            "linecolor": "white",
            "showbackground": true,
            "ticks": "",
            "zerolinecolor": "white"
           },
           "zaxis": {
            "backgroundcolor": "#E5ECF6",
            "gridcolor": "white",
            "gridwidth": 2,
            "linecolor": "white",
            "showbackground": true,
            "ticks": "",
            "zerolinecolor": "white"
           }
          },
          "shapedefaults": {
           "line": {
            "color": "#2a3f5f"
           }
          },
          "ternary": {
           "aaxis": {
            "gridcolor": "white",
            "linecolor": "white",
            "ticks": ""
           },
           "baxis": {
            "gridcolor": "white",
            "linecolor": "white",
            "ticks": ""
           },
           "bgcolor": "#E5ECF6",
           "caxis": {
            "gridcolor": "white",
            "linecolor": "white",
            "ticks": ""
           }
          },
          "title": {
           "x": 0.05
          },
          "xaxis": {
           "automargin": true,
           "gridcolor": "white",
           "linecolor": "white",
           "ticks": "",
           "title": {
            "standoff": 15
           },
           "zerolinecolor": "white",
           "zerolinewidth": 2
          },
          "yaxis": {
           "automargin": true,
           "gridcolor": "white",
           "linecolor": "white",
           "ticks": "",
           "title": {
            "standoff": 15
           },
           "zerolinecolor": "white",
           "zerolinewidth": 2
          }
         }
        },
        "xaxis": {
         "anchor": "y",
         "domain": [
          0,
          1
         ],
         "title": {
          "text": "attacker_size"
         }
        },
        "yaxis": {
         "anchor": "x",
         "domain": [
          0,
          1
         ],
         "title": {
          "text": "defender_size"
         }
        }
       }
      }
     },
     "metadata": {},
     "output_type": "display_data"
    }
   ],
   "source": [
    "fig = px.scatter(\n",
    "    # battles,\n",
    "    battles[battles['name'] != 'Battle of Castle Black'], \n",
    "    x='attacker_size', \n",
    "    y='defender_size', \n",
    "    color='region',\n",
    "    size='total_warriors',\n",
    "    hover_data=['name', 'battle_type'],\n",
    "    )\n",
    "fig"
   ]
  },
  {
   "cell_type": "code",
   "execution_count": null,
   "metadata": {},
   "outputs": [],
   "source": []
  }
 ],
 "metadata": {
  "interpreter": {
   "hash": "4388557d31c3df4d7f90e50d2e73c7be6480323f2f66613020477294c42d7017"
  },
  "kernelspec": {
   "display_name": "Python 3.8.12 ('StarterPack')",
   "language": "python",
   "name": "python3"
  },
  "language_info": {
   "codemirror_mode": {
    "name": "ipython",
    "version": 3
   },
   "file_extension": ".py",
   "mimetype": "text/x-python",
   "name": "python",
   "nbconvert_exporter": "python",
   "pygments_lexer": "ipython3",
   "version": "3.8.12"
  },
  "orig_nbformat": 4
 },
 "nbformat": 4,
 "nbformat_minor": 2
}
